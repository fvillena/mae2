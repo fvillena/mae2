{
 "cells": [
  {
   "cell_type": "markdown",
   "id": "a0e61d4f",
   "metadata": {},
   "source": [
    "# Grandes modelos de lenguaje (LLMs)\n",
    "\n",
    "En este notebook, exploraremos el uso de grandes modelos de lenguaje (LLMs) para tareas de procesamiento de lenguaje natural, con hincapié en aplicaciones clínicas y de salud. Cubriremos cómo conectarse a APIs de LLMs, enviar consultas, procesar respuestas y algunos ejemplos de prompting y buenas prácticas."
   ]
  },
  {
   "cell_type": "code",
   "execution_count": 1,
   "id": "1c6837e1",
   "metadata": {},
   "outputs": [],
   "source": [
    "import requests\n",
    "from openai import OpenAI\n",
    "from pydantic import BaseModel\n",
    "import json\n",
    "import datasets\n",
    "from sklearn.metrics import classification_report"
   ]
  },
  {
   "cell_type": "markdown",
   "id": "8e84d2ef",
   "metadata": {},
   "source": [
    "## Autenticación\n",
    "\n",
    "Para interactuar con un LLM, primero debemos autenticar nuestra aplicación. Esto generalmente implica obtener una clave API de un proveedor de LLM. Asegúrate de tener tu clave API a mano."
   ]
  },
  {
   "cell_type": "code",
   "execution_count": null,
   "id": "1789b777",
   "metadata": {},
   "outputs": [],
   "source": [
    "API_KEY = \"\""
   ]
  },
  {
   "cell_type": "markdown",
   "id": "ae747e60",
   "metadata": {},
   "source": [
    "## API de OpenAI\n",
    "\n",
    "A través de consultas HTTP a la API de OpenAI, podemos enviar solicitudes y recibir respuestas de un modelo de lenguaje. Aquí hay un ejemplo básico de cómo hacerlo en Python."
   ]
  },
  {
   "cell_type": "code",
   "execution_count": 3,
   "id": "bf53b01c",
   "metadata": {},
   "outputs": [
    {
     "data": {
      "text/plain": [
       "{'id': 'resp_6856312a0198819baa02d4b05a016e1a01f71055c5dbfaae',\n",
       " 'object': 'response',\n",
       " 'created_at': 1750479146,\n",
       " 'status': 'completed',\n",
       " 'background': False,\n",
       " 'error': None,\n",
       " 'incomplete_details': None,\n",
       " 'instructions': None,\n",
       " 'max_output_tokens': None,\n",
       " 'model': 'gpt-4.1-nano-2025-04-14',\n",
       " 'output': [{'id': 'msg_6856312ab190819bab2f8945b2464e4701f71055c5dbfaae',\n",
       "   'type': 'message',\n",
       "   'status': 'completed',\n",
       "   'content': [{'type': 'output_text',\n",
       "     'annotations': [],\n",
       "     'text': 'El procesamiento de lenguaje natural clínico (PLNC) es una rama especializada del procesamiento de lenguaje natural (PLN) que se enfoca en la interpretación, análisis y extracción de información de textos y registros clínicos o médicos. Este campo combina técnicas de inteligencia artificial, aprendizaje automático y lingüística computacional para facilitar la gestión, el análisis y la utilización de datos clínicos escritos en lenguaje natural, como notas médicas, informes de laboratorios, historial clínico, y otros documentos relacionados con la atención médica.\\n\\nEl objetivo principal del PLNC clínico es convertir textos no estructurados en datos estructurados y fácilmente accesibles para mejorar la toma de decisiones clínicas, la investigación, la gestión de registros de salud y la generación de informes, todo mientras preserva la precisión y confidencialidad de la información médica.'}],\n",
       "   'role': 'assistant'}],\n",
       " 'parallel_tool_calls': True,\n",
       " 'previous_response_id': None,\n",
       " 'reasoning': {'effort': None, 'summary': None},\n",
       " 'service_tier': 'default',\n",
       " 'store': True,\n",
       " 'temperature': 1.0,\n",
       " 'text': {'format': {'type': 'text'}},\n",
       " 'tool_choice': 'auto',\n",
       " 'tools': [],\n",
       " 'top_p': 1.0,\n",
       " 'truncation': 'disabled',\n",
       " 'usage': {'input_tokens': 18,\n",
       "  'input_tokens_details': {'cached_tokens': 0},\n",
       "  'output_tokens': 164,\n",
       "  'output_tokens_details': {'reasoning_tokens': 0},\n",
       "  'total_tokens': 182},\n",
       " 'user': None,\n",
       " 'metadata': {}}"
      ]
     },
     "execution_count": 3,
     "metadata": {},
     "output_type": "execute_result"
    }
   ],
   "source": [
    "url = \"https://api.openai.com/v1/responses\"\n",
    "headers = {\n",
    "    \"Content-Type\": \"application/json\",\n",
    "}\n",
    "headers[\"Authorization\"] = f\"Bearer {API_KEY}\"\n",
    "data = {\n",
    "    \"model\": \"gpt-4.1-nano\",\n",
    "    \"input\": \"Define qué es el procesamiento de lenguaje natural clínico.\",\n",
    "}\n",
    "response = requests.post(url, headers=headers, json=data)\n",
    "response.json()"
   ]
  },
  {
   "cell_type": "markdown",
   "id": "071f6e08",
   "metadata": {},
   "source": [
    "## Uso de la biblioteca `openai`\n",
    "\n",
    "En vez de hacer solicitudes HTTP manualmente, podemos usar la biblioteca `openai` para simplificar el proceso. Asegúrate de instalarla primero:\n"
   ]
  },
  {
   "cell_type": "code",
   "execution_count": 4,
   "id": "4000c63e",
   "metadata": {},
   "outputs": [],
   "source": [
    "client = OpenAI(\n",
    "    api_key=API_KEY\n",
    ")"
   ]
  },
  {
   "cell_type": "markdown",
   "id": "355678ff",
   "metadata": {},
   "source": [
    "###  Uso básico\n",
    "\n",
    "Podemos usar la biblioteca `openai` para enviar solicitudes a la API de OpenAI. Aquí hay un ejemplo básico de cómo hacerlo"
   ]
  },
  {
   "cell_type": "code",
   "execution_count": 5,
   "id": "270d2970",
   "metadata": {},
   "outputs": [
    {
     "name": "stdout",
     "output_type": "stream",
     "text": [
      "Para desarrollar una función de preprocesamiento en el contexto del procesamiento de lenguaje natural clínico, es importante considerar lo siguiente:\n",
      "\n",
      "1. **Estandarización de términos**: Unifica terminologías médicas utilizando ontologías como SNOMED CT o UMLS para obtener consistencia.\n",
      "\n",
      "2. **Eliminación de ruido**: Remueve información irrelevante, como números de expediente o datos de identificación personal, para proteger la privacidad.\n",
      "\n",
      "3. **Tokenización**: Separa el texto en unidades significativas (tokens), tomando en cuenta las características del lenguaje médico.\n",
      "\n",
      "4. **Normalización**: Convierte abreviaturas y diferentes formatos de términos a una forma estándar.\n",
      "\n",
      "5. **Corrección ortográfica**: Aborda errores tipográficos comunes en textos médicos.\n",
      "\n",
      "6. **Identificación de entidades**: Detecta y marca entidades médicas relevantes, como enfermedades, medicamentos, y procedimientos.\n",
      "\n",
      "7. **Desambiguación**: Resuelve ambigüedades contextuales en términos médicos.\n",
      "\n",
      "8. **Filtrado de stopwords**: Considera eliminar palabras comunes, teniendo en cuenta que algunas pueden ser importantes en contextos clínicos.\n",
      "\n",
      "9. **Segmentación de oraciones**: Delimita las oraciones para mejorar la comprensión y análisis sintáctico.\n",
      "\n",
      "10. **Reconocimiento de patrones**: Detecta patrones comunes como dosis de medicamentos o fechas de consulta.\n",
      "\n",
      "Estas prácticas ayudan a mejorar la calidad del análisis y la extracción de información relevante en textos clínicos.\n"
     ]
    }
   ],
   "source": [
    "response = client.responses.create(\n",
    "    model=\"gpt-4o\",\n",
    "    instructions=\"Eres un experto en procesamiento de lenguaje natural clínico. Responde a la pregunta de manera clara y concisa.\",\n",
    "    input=\"¿Qué debo tomar en cuenta para desarrollar una función de preprocesamiento?\",\n",
    ")\n",
    "\n",
    "print(response.output_text)"
   ]
  },
  {
   "cell_type": "markdown",
   "id": "999fe756",
   "metadata": {},
   "source": [
    "También podemos usar imágenes como parte de nuestras consultas. A continuación, se muestra un ejemplo de cómo enviar una imagen junto con un mensaje de texto.\n"
   ]
  },
  {
   "cell_type": "code",
   "execution_count": 6,
   "id": "d3bc0b7e",
   "metadata": {},
   "outputs": [
    {
     "name": "stdout",
     "output_type": "stream",
     "text": [
      "La imagen muestra lesiones en la cavidad oral que podrían estar asociadas con varias afecciones. Una posibilidad común podría ser la leucoplasia oral, que aparece como manchas blancas o placas en las mucosas. También podría ser un signo de candidiasis oral o incluso una enfermedad periodontal avanzada. Para un diagnóstico adecuado, es importante que el paciente consulte a un profesional de salud.\n"
     ]
    }
   ],
   "source": [
    "prompt = \"¿Qué enfermedad es probable que tenga el paciente?\"\n",
    "img_url = \"https://patoral.umayor.cl/canmucor/ca_leng_mb1.jpg\"\n",
    "\n",
    "response = client.responses.create(\n",
    "    model=\"gpt-4o-mini\",\n",
    "    input=[\n",
    "        {\n",
    "            \"role\": \"user\",\n",
    "            \"content\": [\n",
    "                {\"type\": \"input_text\", \"text\": prompt},\n",
    "                {\"type\": \"input_image\", \"image_url\": f\"{img_url}\"},\n",
    "            ],\n",
    "        }\n",
    "    ],\n",
    ")\n",
    "\n",
    "print(response.output_text)"
   ]
  },
  {
   "cell_type": "markdown",
   "id": "5a4bef4a",
   "metadata": {},
   "source": [
    "### Mensajes y roles\n",
    "\n",
    "Los mensajes en la API de OpenAI tienen roles que indican quién está hablando. Los roles comunes son `system`, `user` y `assistant`. Aquí hay un ejemplo de cómo estructurar un mensaje"
   ]
  },
  {
   "cell_type": "code",
   "execution_count": 7,
   "id": "b985751b",
   "metadata": {},
   "outputs": [
    {
     "name": "stdout",
     "output_type": "stream",
     "text": [
      "¡Excelente pregunta! Como experto en salud digital, te puedo decir que la implementación exitosa de un proyecto de informática médica (como una historia clínica electrónica, un sistema de laboratorio o de gestión hospitalaria) depende de varios factores críticos. Los más importantes suelen ser:\n",
      "\n",
      "**1. Enfoque centrado en el usuario:**  \n",
      "Antes que la tecnología misma, lo primordial es que el sistema satisfaga las necesidades clínicas y administrativas de quien lo usará: médicos, enfermería, personal administrativo, pacientes, etc. Involucra a los futuros usuarios desde el principio, escúchalos, recaba feedback y haz pruebas piloto.\n",
      "\n",
      "**2. Gestión del cambio:**  \n",
      "Los proyectos de informática médica no son solo de tecnología, sino de transformación cultural. La resistencia al cambio es uno de los principales motivos de fracaso. Planifica capacitación, comunicación y acompañamiento durante toda la implementación.\n",
      "\n",
      "**3. Interoperabilidad y estándares:**  \n",
      "El sistema debe poder intercambiar datos con otros sistemas (hospitales, laboratorios, farmacias, sistemas estatales) mediante estándares reconocidos (HL7, FHIR, SNOMED, LOINC, etc.).\n",
      "\n",
      "**4. Seguridad y confidencialidad:**  \n",
      "Protege los datos sensibles de los pacientes cumpliendo normas locales y mejores prácticas internacionales sobre privacidad y ciberseguridad (como HIPAA, GDPR, NOM-024 en México, etc.).\n",
      "\n",
      "**5. Soporte y mantenimiento:**  \n",
      "La informática médica no termina al ir “en vivo”. Se necesita soporte técnico, actualizaciones, control de calidad y un canal claro para reportar y resolver fallos.\n",
      "\n",
      "**6. Alineación con los objetivos institucionales:**  \n",
      "El proyecto debe estar alineado con la estrategia, misión y visión de la organización de salud, generando valor medible (mejor atención, reducción de errores, procesos más eficientes, etc.).\n",
      "\n",
      "**7. Evaluación y mejora continua:**  \n",
      "Mide resultados e impacto (por ejemplo, reducción de errores, satisfacción de usuarios, tiempos de respuesta). Ajusta y mejora el sistema conforme evoluciona la práctica clínica.\n",
      "\n",
      "En resumen: El éxito depende de personas, procesos y tecnología, en ese orden de importancia.\n",
      "\n",
      "¿Tienes un proyecto en particular en mente? Si quieres, puedo ayudarte a estructurarlo o señalarte puntos críticos según el contexto en el que te encuentres.\n"
     ]
    }
   ],
   "source": [
    "response = client.responses.create(\n",
    "    model=\"gpt-4.1\",\n",
    "    input=[\n",
    "        {\"role\": \"developer\", \"content\": \"Eres un experto en salud digital.\"},\n",
    "        {\"role\": \"user\", \"content\": \"Qué es lo más importante al implementar un proyecto de informática médica?\"}\n",
    "    ]\n",
    ")\n",
    "print(response.output_text)\n"
   ]
  },
  {
   "cell_type": "code",
   "execution_count": 8,
   "id": "8c5e1f91",
   "metadata": {},
   "outputs": [
    {
     "name": "stdout",
     "output_type": "stream",
     "text": [
      "Rutina\n"
     ]
    }
   ],
   "source": [
    "developer_message = \"\"\"\n",
    "# Identidad\n",
    "\n",
    "Eres un priorizador de la lista de espera chilena y deben priorizar pacientes en las categorías Urgente o Rutina.\n",
    "\n",
    "# Instrucciones\n",
    "\n",
    "* Solo responde con una palabra: \"Urgente\" o \"Rutina\".\n",
    "\"\"\"\n",
    "\n",
    "response = client.responses.create(\n",
    "    model=\"gpt-4.1\",\n",
    "    input=[\n",
    "        {\"role\": \"developer\", \"content\": developer_message},\n",
    "        {\"role\": \"user\", \"content\": \"El paciente presenta un dolor muy leve en el dedo meñique izquierdo.\"}\n",
    "    ]\n",
    ")\n",
    "print(response.output_text)\n"
   ]
  },
  {
   "cell_type": "markdown",
   "id": "24dc6f28",
   "metadata": {},
   "source": [
    "### Adición de ejemplos\n",
    "\n",
    "Para mejorar la calidad de las respuestas, podemos proporcionar ejemplos de preguntas y respuestas esperadas. Esto ayuda al modelo a entender mejor el contexto y las expectativas."
   ]
  },
  {
   "cell_type": "code",
   "execution_count": 9,
   "id": "2e0a14af",
   "metadata": {},
   "outputs": [
    {
     "name": "stdout",
     "output_type": "stream",
     "text": [
      "Urgente\n"
     ]
    }
   ],
   "source": [
    "developer_message = \"\"\"\n",
    "# Identidad\n",
    "\n",
    "Eres un priorizador de la lista de espera chilena y deben priorizar pacientes en las categorías Urgente o Rutina.\n",
    "\n",
    "# Instrucciones\n",
    "\n",
    "* Solo responde con una palabra: \"Urgente\" o \"Rutina\".\n",
    "\n",
    "# Ejemplos\n",
    "\n",
    "<interconsulta>\n",
    "El paciente presenta pérdida de peso de 10 kg en los últimos 3 meses y tiene antecedentes de cáncer de colon.\n",
    "</interconsulta>\n",
    "<assistant_response\">\n",
    "Urgente\n",
    "</assistant_response>\n",
    "<interconsulta>\n",
    "El paciente presenta un dolor muy leve en el dedo meñique izquierdo.\n",
    "</interconsulta>\n",
    "<assistant_response\">\n",
    "Rutina\n",
    "</assistant_response>\n",
    "<interconsulta>\n",
    "El paciente tiene un dolor intenso en el pecho y dificultad para respirar.\n",
    "</interconsulta>\n",
    "<assistant_response\">\n",
    "Urgente\n",
    "</assistant_response>\n",
    "\"\"\"\n",
    "\n",
    "response = client.responses.create(\n",
    "    model=\"gpt-4.1\",\n",
    "    input=[\n",
    "        {\"role\": \"developer\", \"content\": developer_message},\n",
    "        {\"role\": \"user\", \"content\": \"El paciente tiene un dolor intenso en la zona parietal izquierda.\"}\n",
    "    ]\n",
    ")\n",
    "print(response.output[0].content[0].text)\n"
   ]
  },
  {
   "cell_type": "markdown",
   "id": "71afd221",
   "metadata": {},
   "source": [
    "### Respuesta estructurada\n",
    "\n",
    "Para obtener respuestas más estructuradas, podemos usar el parámetro `text_format` en la solicitud. Esto nos permite especificar el formato de la respuesta esperada."
   ]
  },
  {
   "cell_type": "code",
   "execution_count": 10,
   "id": "531d31f4",
   "metadata": {},
   "outputs": [
    {
     "name": "stdout",
     "output_type": "stream",
     "text": [
      "Urgente\n"
     ]
    }
   ],
   "source": [
    "# Definir el esquema de salida estructurada\n",
    "class InterconsultaPrioridad(BaseModel):\n",
    "    prioridad: str  # \"Urgente\" o \"Rutina\"\n",
    "\n",
    "# Usar el método parse para obtener una respuesta estructurada\n",
    "response = client.responses.parse(\n",
    "    model=\"gpt-4o-2024-08-06\",\n",
    "    input=[\n",
    "        {\"role\": \"system\", \"content\": \"Eres un priorizador de la lista de espera chilena. Responde solo con la prioridad del paciente ('Urgente' o 'Rutina').\"},\n",
    "        {\"role\": \"user\", \"content\": \"El paciente tiene fiebre alta y dificultad respiratoria.\"}\n",
    "    ],\n",
    "    text_format=InterconsultaPrioridad,\n",
    ")\n",
    "\n",
    "print(response.output_parsed.prioridad)"
   ]
  },
  {
   "cell_type": "markdown",
   "id": "deb37de5",
   "metadata": {},
   "source": [
    "En algunos casos, es fundamental que la respuesta del modelo siga una estructura específica y validable, especialmente para integraciones clínicas o flujos automatizados. La API de OpenAI permite definir un esquema JSON (JSON Schema) que el modelo debe seguir estrictamente en su respuesta. A continuación, se muestra cómo definir un esquema para priorización de interconsultas y cómo solicitar al modelo que responda usando exactamente ese formato estructurado."
   ]
  },
  {
   "cell_type": "code",
   "execution_count": 11,
   "id": "c669e483",
   "metadata": {},
   "outputs": [
    {
     "data": {
      "text/plain": [
       "{'prioridad': 'Rutina',\n",
       " 'descripcion': 'El dolor abdominal leve presente desde hace 2 semanas sugiere una condición que no requiere atención inmediata, pero debe ser evaluada en un próximo control médico de rutina.'}"
      ]
     },
     "execution_count": 11,
     "metadata": {},
     "output_type": "execute_result"
    }
   ],
   "source": [
    "schema = {\n",
    "    \"type\": \"object\",\n",
    "    \"properties\": {\n",
    "        \"prioridad\": {\n",
    "            \"type\": \"string\",\n",
    "            \"enum\": [\"Urgente\", \"Rutina\"],\n",
    "            \"description\": \"Prioridad del paciente según la interconsulta\"\n",
    "        },\n",
    "        \"descripcion\": {\n",
    "            \"type\": \"string\",\n",
    "            \"description\": \"Descripción adicional de la interconsulta\"\n",
    "        }\n",
    "    },\n",
    "    \"required\": [\"prioridad\", \"descripcion\"],\n",
    "    \"additionalProperties\": False\n",
    "}\n",
    "\n",
    "response = client.responses.create(\n",
    "    model=\"gpt-4o\",\n",
    "    input=[\n",
    "        {\"role\": \"system\", \"content\": \"Eres un priorizador de la lista de espera chilena. Responde solo con la prioridad del paciente ('Urgente' o 'Rutina').\"},\n",
    "        {\"role\": \"user\", \"content\": \"El paciente refiere dolor abdominal leve desde hace 2 semanas.\"}\n",
    "    ],\n",
    "    text={\n",
    "        \"format\": {\n",
    "            \"type\": \"json_schema\",\n",
    "            \"name\": \"prioridad_interconsulta\",\n",
    "            \"schema\": schema,\n",
    "            \"strict\": True\n",
    "        }\n",
    "    }\n",
    ")\n",
    "\n",
    "json.loads(response.output[0].content[0].text)"
   ]
  },
  {
   "cell_type": "markdown",
   "id": "84344bae",
   "metadata": {},
   "source": [
    "### Chain of Thought (Cadena de Pensamiento)\n",
    "\n",
    "El prompting tipo \"chain of thought\" (cadena de pensamiento) le indica al modelo que razone paso a paso antes de dar una respuesta final. Esto es útil para tareas complejas donde se requiere justificar o explicar el razonamiento detrás de la decisión.\n",
    "\n",
    "A continuación, se muestra un ejemplo donde se le pide al modelo que explique su razonamiento antes de priorizar la interconsulta\n"
   ]
  },
  {
   "cell_type": "code",
   "execution_count": 12,
   "id": "4ee4b744",
   "metadata": {},
   "outputs": [
    {
     "name": "stdout",
     "output_type": "stream",
     "text": [
      "Análisis de los síntomas del paciente:\n",
      "\n",
      "1. **Fiebre alta**:\n",
      "   - La fiebre alta puede indicar una infección o inflamación en el cuerpo. Es un síntoma general que, combinado con otros, puede señalar una condición más seria.\n",
      "\n",
      "2. **Tos persistente**:\n",
      "   - Una tos que no cede puede ser un signo de una infección respiratoria, como bronquitis o neumonía. Es particularmente preocupante si interfiere con la respiración.\n",
      "\n",
      "3. **Dificultad respiratoria**:\n",
      "   - Este es un síntoma significativo que indica que el paciente tiene problemas para obtener suficiente oxígeno. Puede ser una señal de una afección respiratoria grave, como neumonía, enfermedad pulmonar obstructiva crónica (EPOC), o incluso COVID-19.\n",
      "\n",
      "**Razón para la priorización**:\n",
      "La combinación de fiebre alta, tos persistente y dificultad respiratoria sugiere una posible infección respiratoria aguda. La dificultad respiratoria es especialmente preocupante ya que puede comprometer la oxigenación y requiere evaluación médica inmediata.\n",
      "\n",
      "**Prioridad final**: Urgente\n"
     ]
    }
   ],
   "source": [
    "cot_prompt = \"\"\"\n",
    "Eres un priorizador de la lista de espera chilena. \n",
    "Primero, analiza los síntomas del paciente paso a paso y explica tu razonamiento. \n",
    "Luego, responde con la prioridad final: \"Urgente\" o \"Rutina\".\n",
    "\n",
    "Paciente: El paciente presenta fiebre alta, tos persistente y dificultad respiratoria.\n",
    "\"\"\"\n",
    "\n",
    "response = client.responses.create(\n",
    "    model=\"gpt-4o\",\n",
    "    input=[\n",
    "        {\"role\": \"system\", \"content\": cot_prompt}\n",
    "    ]\n",
    ")\n",
    "\n",
    "print(response.output_text)"
   ]
  },
  {
   "cell_type": "markdown",
   "id": "48437978",
   "metadata": {},
   "source": [
    "## Clasificador utilizando LLMs\n",
    "\n",
    "Los LLMs también pueden ser utilizados como clasificadores para tareas específicas, como la clasificación de interconsultas médicas. A continuación, se muestra un ejemplo de cómo implementar un clasificador utilizando un LLM."
   ]
  },
  {
   "cell_type": "code",
   "execution_count": 13,
   "id": "06291b58",
   "metadata": {},
   "outputs": [],
   "source": [
    "spanish_diagnostics = datasets.load_dataset('fvillena/spanish_diagnostics')"
   ]
  },
  {
   "cell_type": "code",
   "execution_count": 14,
   "id": "25888505",
   "metadata": {},
   "outputs": [],
   "source": [
    "test = spanish_diagnostics['test'].select(range(100))"
   ]
  },
  {
   "cell_type": "code",
   "execution_count": 15,
   "id": "f697fa7f",
   "metadata": {},
   "outputs": [],
   "source": [
    "def classifier(text):\n",
    "    schema = {\n",
    "        \"type\": \"object\",\n",
    "        \"properties\": {\n",
    "            \"tipo\": {\n",
    "                \"type\": \"string\",\n",
    "                \"enum\": [\"dental\", \"no_dental\"],\n",
    "                \"description\": \"Tipo de diagnóstico: 'dental' cuando se debe enviar la interconsulta a una especialidad dental o 'no_dental' cuando no se debe enviar a una especialidad dental\"\n",
    "            }\n",
    "        },\n",
    "        \"required\": [\"tipo\"],\n",
    "        \"additionalProperties\": False\n",
    "    }\n",
    "    response = client.responses.create(\n",
    "        model=\"gpt-4o\",\n",
    "        input=[\n",
    "            {\"role\": \"system\", \"content\": \"Eres un clasificador de diagnósticos médicos.\"},\n",
    "            {\"role\": \"user\", \"content\": text}\n",
    "        ],\n",
    "        text={\n",
    "            \"format\": {\n",
    "                \"type\": \"json_schema\",\n",
    "                \"name\": \"diagnostico_clasificacion\",\n",
    "                \"schema\": schema,\n",
    "                \"strict\": True\n",
    "            }\n",
    "        }\n",
    "    )\n",
    "    return json.loads(response.output[0].content[0].text)[\"tipo\"]"
   ]
  },
  {
   "cell_type": "code",
   "execution_count": 16,
   "id": "19cb2a0d",
   "metadata": {},
   "outputs": [
    {
     "data": {
      "text/plain": [
       "'dental'"
      ]
     },
     "execution_count": 16,
     "metadata": {},
     "output_type": "execute_result"
    }
   ],
   "source": [
    "classifier(\"caries en el diente 12 y 13, dolor leve al masticar\")"
   ]
  },
  {
   "cell_type": "code",
   "execution_count": 17,
   "id": "741694ed",
   "metadata": {},
   "outputs": [],
   "source": [
    "predicted = [classifier(item['text']) for item in test]"
   ]
  },
  {
   "cell_type": "code",
   "execution_count": 18,
   "id": "b2167aa8",
   "metadata": {},
   "outputs": [
    {
     "name": "stdout",
     "output_type": "stream",
     "text": [
      "              precision    recall  f1-score   support\n",
      "\n",
      "      dental       0.93      0.98      0.96        44\n",
      "   no_dental       0.98      0.95      0.96        56\n",
      "\n",
      "    accuracy                           0.96       100\n",
      "   macro avg       0.96      0.96      0.96       100\n",
      "weighted avg       0.96      0.96      0.96       100\n",
      "\n"
     ]
    }
   ],
   "source": [
    "print(classification_report([\"dental\" if item['label'] == 1 else \"no_dental\" for item in test], predicted))"
   ]
  },
  {
   "cell_type": "code",
   "execution_count": 19,
   "id": "9b7783b3",
   "metadata": {},
   "outputs": [],
   "source": [
    "def classifier_few_shot(text):\n",
    "    schema = {\n",
    "        \"type\": \"object\",\n",
    "        \"properties\": {\n",
    "            \"tipo\": {\n",
    "                \"type\": \"string\",\n",
    "                \"enum\": [\"dental\", \"no_dental\"],\n",
    "                \"description\": \"Tipo de diagnóstico: 'dental' cuando se debe enviar la interconsulta a una especialidad dental o 'no_dental' cuando no se debe enviar a una especialidad dental\"\n",
    "            }\n",
    "        },\n",
    "        \"required\": [\"tipo\"],\n",
    "        \"additionalProperties\": False\n",
    "    }\n",
    "    response = client.responses.create(\n",
    "        model=\"gpt-4o\",\n",
    "        input=[\n",
    "            {\"role\": \"system\", \"content\": \"Eres un clasificador de diagnósticos médicos.\"},\n",
    "            {\"role\": \"user\", \"content\": \"paciente con dolor en el diente 12 y 13\"},\n",
    "            {\"role\": \"assistant\", \"content\": '{\"tipo\":\"dental\"}'},\n",
    "            {\"role\": \"user\", \"content\": \"paciente con dolor en la rodilla derecha\"},\n",
    "            {\"role\": \"assistant\", \"content\": '{\"tipo\":\"no_dental\"}'},\n",
    "            {\"role\": \"user\", \"content\": text}\n",
    "        ],\n",
    "        text={\n",
    "            \"format\": {\n",
    "                \"type\": \"json_schema\",\n",
    "                \"name\": \"diagnostico_clasificacion\",\n",
    "                \"schema\": schema,\n",
    "                \"strict\": True\n",
    "            }\n",
    "        }\n",
    "    )\n",
    "    return json.loads(response.output[0].content[0].text)[\"tipo\"]"
   ]
  },
  {
   "cell_type": "code",
   "execution_count": 20,
   "id": "2ef3eed4",
   "metadata": {},
   "outputs": [
    {
     "data": {
      "text/plain": [
       "'dental'"
      ]
     },
     "execution_count": 20,
     "metadata": {},
     "output_type": "execute_result"
    }
   ],
   "source": [
    "classifier_few_shot(\"El paciente presenta dolor en el diente 12 y 13, con sensibilidad al frío y al calor.\")"
   ]
  },
  {
   "cell_type": "code",
   "execution_count": 21,
   "id": "c0fc0f91",
   "metadata": {},
   "outputs": [],
   "source": [
    "predicted = [classifier_few_shot(item['text']) for item in test]"
   ]
  },
  {
   "cell_type": "code",
   "execution_count": 22,
   "id": "46690cc3",
   "metadata": {},
   "outputs": [
    {
     "name": "stdout",
     "output_type": "stream",
     "text": [
      "              precision    recall  f1-score   support\n",
      "\n",
      "      dental       0.94      1.00      0.97        44\n",
      "   no_dental       1.00      0.95      0.97        56\n",
      "\n",
      "    accuracy                           0.97       100\n",
      "   macro avg       0.97      0.97      0.97       100\n",
      "weighted avg       0.97      0.97      0.97       100\n",
      "\n"
     ]
    }
   ],
   "source": [
    "print(classification_report([\"dental\" if item['label'] == 1 else \"no_dental\" for item in test], predicted))"
   ]
  },
  {
   "cell_type": "code",
   "execution_count": null,
   "id": "289fbe6e",
   "metadata": {},
   "outputs": [],
   "source": []
  }
 ],
 "metadata": {
  "kernelspec": {
   "display_name": "Python 3",
   "language": "python",
   "name": "python3"
  },
  "language_info": {
   "codemirror_mode": {
    "name": "ipython",
    "version": 3
   },
   "file_extension": ".py",
   "mimetype": "text/x-python",
   "name": "python",
   "nbconvert_exporter": "python",
   "pygments_lexer": "ipython3",
   "version": "3.11.12"
  }
 },
 "nbformat": 4,
 "nbformat_minor": 5
}
